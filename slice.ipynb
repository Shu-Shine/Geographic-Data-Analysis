{
 "cells": [
  {
   "cell_type": "code",
   "execution_count": 1,
   "metadata": {},
   "outputs": [],
   "source": [
    "import numpy as np\n",
    "import pandas as pd\n",
    "import netCDF4 as nc\n",
    "import geopandas as gpd\n",
    "from netCDF4 import num2date\n",
    "import datetime\n",
    "\n",
    "from tqdm import tqdm\n",
    "\n",
    "tqdm.pandas()\n",
    "from shapely.geometry import Point\n",
    "\n",
    "import matplotlib.pyplot as plt\n",
    "\n",
    "import platform\n",
    "\n",
    "from cartopy import crs as ccrs\n",
    "\n",
    "if platform.system() == 'Darwin':\n",
    "    plt.rcParams[\"font.family\"] = 'Arial Unicode MS'\n",
    "elif platform.system() == 'Windows':\n",
    "    plt.rcParams[\"font.family\"] = 'SimHei'\n",
    "else:\n",
    "    pass"
   ]
  },
  {
   "cell_type": "code",
   "execution_count": null,
   "metadata": {},
   "outputs": [],
   "source": [
    "# based on netCDF4 data\n",
    "nc_data = nc.Dataset(\"./data/nc/rhum.day.ltm.nc\")"
   ]
  },
  {
   "cell_type": "markdown",
   "metadata": {},
   "source": [
    "### Time slice"
   ]
  },
  {
   "cell_type": "code",
   "execution_count": 41,
   "metadata": {},
   "outputs": [],
   "source": [
    "\n",
    "time_var = nc_data.variables['time']\n",
    "time_units = time_var.units\n",
    "raw_time_data = np.array(time_var)\n",
    "raw_data = np.array(nc_data.variables['rhum'])"
   ]
  },
  {
   "cell_type": "code",
   "execution_count": null,
   "metadata": {},
   "outputs": [
    {
     "data": {
      "text/plain": [
       "0    0001-01-01 00:00:00\n",
       "1    0001-01-02 00:00:00\n",
       "2    0001-01-03 00:00:00\n",
       "3    0001-01-04 00:00:00\n",
       "dtype: object"
      ]
     },
     "execution_count": 28,
     "metadata": {},
     "output_type": "execute_result"
    }
   ],
   "source": [
    "# def cftime2datetime(cftime, units, format='%Y-%m-%d %H:%M:%S'):\n",
    "#     \"\"\"\n",
    "#     将nc文件里面的时间格式 从cftime 转换到 datetime格式\n",
    "#     :param cftime:\n",
    "#     :param units:\n",
    "#     :param format:\n",
    "#     :return:\n",
    "#     \"\"\"\n",
    "#     return datetime.datetime.strptime(num2date(times=cftime, units=units).strftime(format), format)\n",
    "\n",
    "\n",
    "# clean_time_data = pd.Series([cftime2datetime(i, units=time_units) for i in raw_time_data])\n",
    "# clean_time_data[:4]"
   ]
  },
  {
   "cell_type": "code",
   "execution_count": null,
   "metadata": {},
   "outputs": [
    {
     "name": "stdout",
     "output_type": "stream",
     "text": [
      "0    0001-01-01 00:00:00\n",
      "1    0001-01-02 00:00:00\n",
      "2    0001-01-03 00:00:00\n",
      "3    0001-01-04 00:00:00\n",
      "dtype: object\n"
     ]
    }
   ],
   "source": [
    "\n",
    "\n",
    "def cftime2datetime(cftime_time, units):\n",
    "    \"\"\"\n",
    "    将 nc 文件的 cftime 时间转换为标准的 datetime 时间格式\n",
    "    :param cftime_time: cftime 对象或数值时间\n",
    "    :param units: 时间单位，如 'days since 1900-1-1'\n",
    "    :return: datetime.datetime 对象\n",
    "    \"\"\"\n",
    "    dt = num2date(cftime_time, units=units)  \n",
    "    if isinstance(dt, datetime.datetime):  # if dt is already a datetime object, return it directly\n",
    "        return dt\n",
    "    else:\n",
    "        return datetime.datetime(dt.year, dt.month, dt.day, dt.hour, dt.minute, dt.second)  # convert cftime object to datetime object \n",
    "\n",
    "\n",
    "clean_time_data = pd.Series([cftime2datetime(i, units=time_units) for i in raw_time_data]) \n",
    "\n",
    "\n",
    "print(clean_time_data[:4])\n"
   ]
  },
  {
   "cell_type": "code",
   "execution_count": null,
   "metadata": {},
   "outputs": [
    {
     "data": {
      "text/plain": [
       "(90, 8, 73, 144)"
      ]
     },
     "execution_count": 45,
     "metadata": {},
     "output_type": "execute_result"
    }
   ],
   "source": [
    "# replace the nonsensical year with a valid year in datetime range\n",
    "clean_time_data = clean_time_data.apply(lambda x: x.replace(year=1991))\n",
    "\n",
    "raw_data[(1 <= clean_time_data.dt.month) & (clean_time_data.dt.month <= 3), :, :].shape\n"
   ]
  },
  {
   "cell_type": "code",
   "execution_count": 46,
   "metadata": {},
   "outputs": [
    {
     "data": {
      "text/plain": [
       "0      False\n",
       "1      False\n",
       "2      False\n",
       "3      False\n",
       "4      False\n",
       "       ...  \n",
       "360     True\n",
       "361     True\n",
       "362     True\n",
       "363     True\n",
       "364     True\n",
       "Length: 365, dtype: bool"
      ]
     },
     "execution_count": 46,
     "metadata": {},
     "output_type": "execute_result"
    }
   ],
   "source": [
    "clean_time_data>='1991-11-01'"
   ]
  },
  {
   "cell_type": "markdown",
   "metadata": {},
   "source": [
    "### Crop"
   ]
  },
  {
   "cell_type": "code",
   "execution_count": 56,
   "metadata": {},
   "outputs": [],
   "source": [
    "raw_lat_data = np.array(nc_data.variables['lat'])\n",
    "raw_lon_data = np.array(nc_data.variables['lon'])\n",
    "missing_value = nc_data.variables['rhum'].missing_value"
   ]
  },
  {
   "cell_type": "code",
   "execution_count": null,
   "metadata": {},
   "outputs": [
    {
     "name": "stderr",
     "output_type": "stream",
     "text": [
      "Skipping field center: unsupported OGR type: 3\n",
      "Skipping field centroid: unsupported OGR type: 3\n"
     ]
    }
   ],
   "source": [
    "boundary = gpd.read_file(filename=\"./data/json/boundary202111.json\")\n",
    "# avoid modifying the original data\n",
    "boundary_data = boundary.copy()  \n",
    "boundary_data['geometry'] = boundary_data.buffer(0)\n"
   ]
  },
  {
   "cell_type": "code",
   "execution_count": 51,
   "metadata": {},
   "outputs": [],
   "source": [
    "def pic(lon, lat) -> bool:\n",
    "    \"\"\"\n",
    "    检测一个点是否在中国边界线内\n",
    "    lon:东经\n",
    "    lat:北纬\n",
    "    :param lon:\n",
    "    :param lat:\n",
    "    :return:\n",
    "    \"\"\"\n",
    "    return boundary_data.contains(Point(lon, lat))[0]"
   ]
  },
  {
   "cell_type": "code",
   "execution_count": null,
   "metadata": {},
   "outputs": [
    {
     "data": {
      "text/plain": [
       "(array([  0. ,   2.5,   5. ,   7.5,  10. ,  12.5,  15. ,  17.5,  20. ,\n",
       "         22.5,  25. ,  27.5,  30. ,  32.5,  35. ,  37.5,  40. ,  42.5,\n",
       "         45. ,  47.5,  50. ,  52.5,  55. ,  57.5,  60. ,  62.5,  65. ,\n",
       "         67.5,  70. ,  72.5,  75. ,  77.5,  80. ,  82.5,  85. ,  87.5,\n",
       "         90. ,  92.5,  95. ,  97.5, 100. , 102.5, 105. , 107.5, 110. ,\n",
       "        112.5, 115. , 117.5, 120. , 122.5, 125. , 127.5, 130. , 132.5,\n",
       "        135. , 137.5, 140. , 142.5, 145. , 147.5, 150. , 152.5, 155. ,\n",
       "        157.5, 160. , 162.5, 165. , 167.5, 170. , 172.5, 175. , 177.5,\n",
       "        180. , 182.5, 185. , 187.5, 190. , 192.5, 195. , 197.5, 200. ,\n",
       "        202.5, 205. , 207.5, 210. , 212.5, 215. , 217.5, 220. , 222.5,\n",
       "        225. , 227.5, 230. , 232.5, 235. , 237.5, 240. , 242.5, 245. ,\n",
       "        247.5, 250. , 252.5, 255. , 257.5, 260. , 262.5, 265. , 267.5,\n",
       "        270. , 272.5, 275. , 277.5, 280. , 282.5, 285. , 287.5, 290. ,\n",
       "        292.5, 295. , 297.5, 300. , 302.5, 305. , 307.5, 310. , 312.5,\n",
       "        315. , 317.5, 320. , 322.5, 325. , 327.5, 330. , 332.5, 335. ,\n",
       "        337.5, 340. , 342.5, 345. , 347.5, 350. , 352.5, 355. , 357.5],\n",
       "       dtype=float32),\n",
       " array([ 90. ,  87.5,  85. ,  82.5,  80. ,  77.5,  75. ,  72.5,  70. ,\n",
       "         67.5,  65. ,  62.5,  60. ,  57.5,  55. ,  52.5,  50. ,  47.5,\n",
       "         45. ,  42.5,  40. ,  37.5,  35. ,  32.5,  30. ,  27.5,  25. ,\n",
       "         22.5,  20. ,  17.5,  15. ,  12.5,  10. ,   7.5,   5. ,   2.5,\n",
       "          0. ,  -2.5,  -5. ,  -7.5, -10. , -12.5, -15. , -17.5, -20. ,\n",
       "        -22.5, -25. , -27.5, -30. , -32.5, -35. , -37.5, -40. , -42.5,\n",
       "        -45. , -47.5, -50. , -52.5, -55. , -57.5, -60. , -62.5, -65. ,\n",
       "        -67.5, -70. , -72.5, -75. , -77.5, -80. , -82.5, -85. , -87.5,\n",
       "        -90. ], dtype=float32))"
      ]
     },
     "execution_count": 55,
     "metadata": {},
     "output_type": "execute_result"
    }
   ],
   "source": [
    "# also need to check the crs of the raw data\n",
    "# 经纬度数据（如经度和纬度）通常与地理坐标系（如 WGS84）相关。\n",
    "raw_lon_data, raw_lat_data"
   ]
  },
  {
   "cell_type": "code",
   "execution_count": null,
   "metadata": {},
   "outputs": [],
   "source": [
    "slice_level = 1\n",
    "slice_day = '1991-09-01'\n",
    "single_data = raw_data[(clean_time_data == slice_day), slice_level,:, :].copy().squeeze()\n",
    "# single_data = raw_data[1,1,:,:].copy()\n",
    "single_data[single_data == missing_value] = np.nan"
   ]
  },
  {
   "cell_type": "code",
   "execution_count": 104,
   "metadata": {},
   "outputs": [
    {
     "data": {
      "text/plain": [
       "<matplotlib.image.AxesImage at 0x26df4d22f10>"
      ]
     },
     "execution_count": 104,
     "metadata": {},
     "output_type": "execute_result"
    },
    {
     "data": {
      "image/png": "[encoded data removed]",
      "text/plain": [
       "<Figure size 640x480 with 1 Axes>"
      ]
     },
     "metadata": {},
     "output_type": "display_data"
    }
   ],
   "source": [
    "fig, ax = plt.subplots()\n",
    "ax.imshow(single_data)"
   ]
  },
  {
   "cell_type": "code",
   "execution_count": null,
   "metadata": {},
   "outputs": [
    {
     "data": {
      "text/plain": [
       "(73, 144)"
      ]
     },
     "execution_count": 106,
     "metadata": {},
     "output_type": "execute_result"
    }
   ],
   "source": [
    "# 原始数据是一个网格数据\n",
    "# 2.5 degree x 2.5 degree global grids (144x73)\n",
    "# 0.0E to 357.5E, 90.0N to 90.0S\n",
    "mask_matrix = np.full(shape=single_data.shape, fill_value=False)\n",
    "\n",
    "mask_matrix.shape"
   ]
  },
  {
   "cell_type": "code",
   "execution_count": null,
   "metadata": {},
   "outputs": [],
   "source": [
    "# 通过判断每个点是否在中国边界内，生成一个掩码矩阵 \n",
    "lon_grid, lat_grid = np.meshgrid(raw_lon_data, raw_lat_data)\n",
    "\n",
    "lon_flat = lon_grid.flatten()\n",
    "lat_flat = lat_grid.flatten()\n",
    "\n",
    "# 利用 Pandas 将数据转为 DataFrame 进行矢量化处理\n",
    "df = pd.DataFrame({'lon': lon_flat, 'lat': lat_flat})\n",
    "\n",
    "mask_values = df.apply(lambda row: pic(row['lon'], row['lat']), axis=1).values\n",
    "\n",
    "mask_matrix = mask_values.reshape(lon_grid.shape)"
   ]
  },
  {
   "cell_type": "code",
   "execution_count": 108,
   "metadata": {},
   "outputs": [],
   "source": [
    "single_data[~mask_matrix] = np.nan"
   ]
  },
  {
   "cell_type": "code",
   "execution_count": 109,
   "metadata": {},
   "outputs": [
    {
     "data": {
      "text/plain": [
       "<matplotlib.image.AxesImage at 0x26df4e63250>"
      ]
     },
     "execution_count": 109,
     "metadata": {},
     "output_type": "execute_result"
    },
    {
     "data": {
      "image/png": "[encoded data removed]",
      "text/plain": [
       "<Figure size 640x480 with 1 Axes>"
      ]
     },
     "metadata": {},
     "output_type": "display_data"
    }
   ],
   "source": [
    "fig, ax = plt.subplots()\n",
    "ax.imshow(single_data)"
   ]
  },
  {
   "cell_type": "code",
   "execution_count": null,
   "metadata": {},
   "outputs": [],
   "source": [
    "import rasterio\n",
    "def array2gtiff(array, filename):\n",
    "    \"\"\"\n",
    "    将一个矩阵保存为tiff文件,\n",
    "    这里还可以设置tiff的crs和transofrm。更多，可以查看rasterio的官网或者下面的这个链接\n",
    "    https://gis.stackexchange.com/questions/279953/numpy-array-to-gtiff-using-rasterio-without-source-raster\n",
    "    :param array: shape:(row, col)\n",
    "    :param filename:\n",
    "    :return:\n",
    "    \"\"\"\n",
    "    with rasterio.open(filename, 'w', driver='GTiff',\n",
    "                       height=array.shape[0], width=array.shape[1],\n",
    "                       count=1, dtype=str(array.dtype), \n",
    "                       crs=boundary_data.crs) as f:\n",
    "        f.write(array, 1)\n",
    "\n",
    "# test function\n",
    "array2gtiff(array=single_data, filename=\"结果/testchina.tiff\")"
   ]
  }
 ],
 "metadata": {
  "kernelspec": {
   "display_name": "myenv",
   "language": "python",
   "name": "python3"
  },
  "language_info": {
   "codemirror_mode": {
    "name": "ipython",
    "version": 3
   },
   "file_extension": ".py",
   "mimetype": "text/x-python",
   "name": "python",
   "nbconvert_exporter": "python",
   "pygments_lexer": "ipython3",
   "version": "3.11.11"
  }
 },
 "nbformat": 4,
 "nbformat_minor": 2
}
